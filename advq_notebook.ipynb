{
 "cells": [
  {
   "cell_type": "code",
   "execution_count": 1,
   "id": "d29a2801",
   "metadata": {
    "id": "d29a2801"
   },
   "outputs": [],
   "source": [
    "import pandas as pd\n",
    "from pandas.api.types import CategoricalDtype\n",
    "import numpy as np\n",
    "import statsmodels.api as sm\n",
    "from statsmodels.stats.diagnostic import het_breuschpagan\n",
    "import matplotlib.pyplot as plt\n",
    "import seaborn as sns"
   ]
  },
  {
   "cell_type": "code",
   "execution_count": 65,
   "id": "f6edbab9",
   "metadata": {
    "colab": {
     "base_uri": "https://localhost:8080/"
    },
    "id": "f6edbab9",
    "outputId": "12f80e46-c926-4530-fbe1-07edca7fb443"
   },
   "outputs": [],
   "source": [
    "df = pd.read_sas(\"c.sas7bdat\")"
   ]
  },
  {
   "cell_type": "code",
   "execution_count": 66,
   "id": "03b1c4e6",
   "metadata": {
    "id": "03b1c4e6"
   },
   "outputs": [],
   "source": [
    "variables = ['c23','c25','c28','c29_1','c29_2','niveak','region9','revenu_net','pcs','sexe','agglo','internet','age']\n",
    "\n",
    "df = df[variables].astype('int64')\n"
   ]
  },
  {
   "cell_type": "code",
   "execution_count": 4,
   "id": "16da04c1",
   "metadata": {
    "colab": {
     "base_uri": "https://localhost:8080/",
     "height": 424
    },
    "id": "16da04c1",
    "outputId": "1f29ea12-3853-464d-f5a6-e10ba5dc0f81"
   },
   "outputs": [
    {
     "data": {
      "text/html": [
       "<div>\n",
       "<style scoped>\n",
       "    .dataframe tbody tr th:only-of-type {\n",
       "        vertical-align: middle;\n",
       "    }\n",
       "\n",
       "    .dataframe tbody tr th {\n",
       "        vertical-align: top;\n",
       "    }\n",
       "\n",
       "    .dataframe thead th {\n",
       "        text-align: right;\n",
       "    }\n",
       "</style>\n",
       "<table border=\"1\" class=\"dataframe\">\n",
       "  <thead>\n",
       "    <tr style=\"text-align: right;\">\n",
       "      <th></th>\n",
       "      <th>c23</th>\n",
       "      <th>c25</th>\n",
       "      <th>c28</th>\n",
       "      <th>c29_1</th>\n",
       "      <th>c29_2</th>\n",
       "      <th>niveak</th>\n",
       "      <th>region9</th>\n",
       "      <th>revenu_net</th>\n",
       "      <th>pcs</th>\n",
       "      <th>sexe</th>\n",
       "      <th>agglo</th>\n",
       "      <th>internet</th>\n",
       "      <th>age</th>\n",
       "    </tr>\n",
       "  </thead>\n",
       "  <tbody>\n",
       "    <tr>\n",
       "      <th>0</th>\n",
       "      <td>2</td>\n",
       "      <td>2</td>\n",
       "      <td>1</td>\n",
       "      <td>3</td>\n",
       "      <td>3</td>\n",
       "      <td>8</td>\n",
       "      <td>9</td>\n",
       "      <td>11</td>\n",
       "      <td>45</td>\n",
       "      <td>2</td>\n",
       "      <td>7</td>\n",
       "      <td>0</td>\n",
       "      <td>4</td>\n",
       "    </tr>\n",
       "    <tr>\n",
       "      <th>1</th>\n",
       "      <td>1</td>\n",
       "      <td>1</td>\n",
       "      <td>0</td>\n",
       "      <td>3</td>\n",
       "      <td>3</td>\n",
       "      <td>4</td>\n",
       "      <td>6</td>\n",
       "      <td>3</td>\n",
       "      <td>85</td>\n",
       "      <td>1</td>\n",
       "      <td>7</td>\n",
       "      <td>1</td>\n",
       "      <td>5</td>\n",
       "    </tr>\n",
       "    <tr>\n",
       "      <th>2</th>\n",
       "      <td>1</td>\n",
       "      <td>1</td>\n",
       "      <td>1</td>\n",
       "      <td>3</td>\n",
       "      <td>2</td>\n",
       "      <td>4</td>\n",
       "      <td>8</td>\n",
       "      <td>10</td>\n",
       "      <td>62</td>\n",
       "      <td>1</td>\n",
       "      <td>7</td>\n",
       "      <td>0</td>\n",
       "      <td>3</td>\n",
       "    </tr>\n",
       "    <tr>\n",
       "      <th>3</th>\n",
       "      <td>1</td>\n",
       "      <td>1</td>\n",
       "      <td>0</td>\n",
       "      <td>2</td>\n",
       "      <td>2</td>\n",
       "      <td>5</td>\n",
       "      <td>8</td>\n",
       "      <td>10</td>\n",
       "      <td>52</td>\n",
       "      <td>2</td>\n",
       "      <td>7</td>\n",
       "      <td>0</td>\n",
       "      <td>5</td>\n",
       "    </tr>\n",
       "    <tr>\n",
       "      <th>4</th>\n",
       "      <td>2</td>\n",
       "      <td>1</td>\n",
       "      <td>0</td>\n",
       "      <td>2</td>\n",
       "      <td>2</td>\n",
       "      <td>5</td>\n",
       "      <td>6</td>\n",
       "      <td>7</td>\n",
       "      <td>56</td>\n",
       "      <td>2</td>\n",
       "      <td>3</td>\n",
       "      <td>0</td>\n",
       "      <td>4</td>\n",
       "    </tr>\n",
       "    <tr>\n",
       "      <th>...</th>\n",
       "      <td>...</td>\n",
       "      <td>...</td>\n",
       "      <td>...</td>\n",
       "      <td>...</td>\n",
       "      <td>...</td>\n",
       "      <td>...</td>\n",
       "      <td>...</td>\n",
       "      <td>...</td>\n",
       "      <td>...</td>\n",
       "      <td>...</td>\n",
       "      <td>...</td>\n",
       "      <td>...</td>\n",
       "      <td>...</td>\n",
       "    </tr>\n",
       "    <tr>\n",
       "      <th>3611</th>\n",
       "      <td>1</td>\n",
       "      <td>2</td>\n",
       "      <td>0</td>\n",
       "      <td>2</td>\n",
       "      <td>2</td>\n",
       "      <td>8</td>\n",
       "      <td>1</td>\n",
       "      <td>10</td>\n",
       "      <td>37</td>\n",
       "      <td>2</td>\n",
       "      <td>8</td>\n",
       "      <td>0</td>\n",
       "      <td>4</td>\n",
       "    </tr>\n",
       "    <tr>\n",
       "      <th>3612</th>\n",
       "      <td>1</td>\n",
       "      <td>3</td>\n",
       "      <td>1</td>\n",
       "      <td>3</td>\n",
       "      <td>3</td>\n",
       "      <td>6</td>\n",
       "      <td>9</td>\n",
       "      <td>12</td>\n",
       "      <td>47</td>\n",
       "      <td>1</td>\n",
       "      <td>1</td>\n",
       "      <td>0</td>\n",
       "      <td>4</td>\n",
       "    </tr>\n",
       "    <tr>\n",
       "      <th>3613</th>\n",
       "      <td>-1</td>\n",
       "      <td>1</td>\n",
       "      <td>1</td>\n",
       "      <td>2</td>\n",
       "      <td>2</td>\n",
       "      <td>6</td>\n",
       "      <td>8</td>\n",
       "      <td>1</td>\n",
       "      <td>84</td>\n",
       "      <td>2</td>\n",
       "      <td>7</td>\n",
       "      <td>0</td>\n",
       "      <td>1</td>\n",
       "    </tr>\n",
       "    <tr>\n",
       "      <th>3614</th>\n",
       "      <td>2</td>\n",
       "      <td>2</td>\n",
       "      <td>0</td>\n",
       "      <td>1</td>\n",
       "      <td>2</td>\n",
       "      <td>7</td>\n",
       "      <td>9</td>\n",
       "      <td>2</td>\n",
       "      <td>84</td>\n",
       "      <td>1</td>\n",
       "      <td>1</td>\n",
       "      <td>0</td>\n",
       "      <td>1</td>\n",
       "    </tr>\n",
       "    <tr>\n",
       "      <th>3615</th>\n",
       "      <td>1</td>\n",
       "      <td>1</td>\n",
       "      <td>1</td>\n",
       "      <td>3</td>\n",
       "      <td>3</td>\n",
       "      <td>6</td>\n",
       "      <td>6</td>\n",
       "      <td>11</td>\n",
       "      <td>38</td>\n",
       "      <td>1</td>\n",
       "      <td>1</td>\n",
       "      <td>0</td>\n",
       "      <td>4</td>\n",
       "    </tr>\n",
       "  </tbody>\n",
       "</table>\n",
       "<p>3616 rows × 13 columns</p>\n",
       "</div>"
      ],
      "text/plain": [
       "      c23  c25  c28  c29_1  c29_2  niveak  region9  revenu_net  pcs  sexe  \\\n",
       "0       2    2    1      3      3       8        9          11   45     2   \n",
       "1       1    1    0      3      3       4        6           3   85     1   \n",
       "2       1    1    1      3      2       4        8          10   62     1   \n",
       "3       1    1    0      2      2       5        8          10   52     2   \n",
       "4       2    1    0      2      2       5        6           7   56     2   \n",
       "...   ...  ...  ...    ...    ...     ...      ...         ...  ...   ...   \n",
       "3611    1    2    0      2      2       8        1          10   37     2   \n",
       "3612    1    3    1      3      3       6        9          12   47     1   \n",
       "3613   -1    1    1      2      2       6        8           1   84     2   \n",
       "3614    2    2    0      1      2       7        9           2   84     1   \n",
       "3615    1    1    1      3      3       6        6          11   38     1   \n",
       "\n",
       "      agglo  internet  age  \n",
       "0         7         0    4  \n",
       "1         7         1    5  \n",
       "2         7         0    3  \n",
       "3         7         0    5  \n",
       "4         3         0    4  \n",
       "...     ...       ...  ...  \n",
       "3611      8         0    4  \n",
       "3612      1         0    4  \n",
       "3613      7         0    1  \n",
       "3614      1         0    1  \n",
       "3615      1         0    4  \n",
       "\n",
       "[3616 rows x 13 columns]"
      ]
     },
     "execution_count": 4,
     "metadata": {},
     "output_type": "execute_result"
    }
   ],
   "source": [
    "df"
   ]
  },
  {
   "cell_type": "markdown",
   "id": "c33a0268",
   "metadata": {
    "id": "c33a0268"
   },
   "source": [
    "# Nettoyage des données"
   ]
  },
  {
   "cell_type": "markdown",
   "id": "bb903098",
   "metadata": {
    "id": "bb903098"
   },
   "source": [
    "On remplace toutes non-réponses (-1) par des NaN afin de remplacer ces valeurs"
   ]
  },
  {
   "cell_type": "code",
   "execution_count": 67,
   "id": "d33d787b",
   "metadata": {
    "id": "d33d787b"
   },
   "outputs": [],
   "source": [
    "for i in list(df.columns):\n",
    "    df.loc[df[i]==-1,i] = np.NaN\n",
    "df.interpolate('pad',inplace=True)"
   ]
  },
  {
   "cell_type": "markdown",
   "id": "240f11a7",
   "metadata": {
    "id": "240f11a7"
   },
   "source": [
    "On remarque une mauvaise échelle pour la question c25"
   ]
  },
  {
   "cell_type": "code",
   "execution_count": 68,
   "id": "e3207f7f",
   "metadata": {
    "id": "e3207f7f"
   },
   "outputs": [],
   "source": [
    "df.c25[df.c25==1] = 1\n",
    "df.c25[(df.c25 == 2) | (df.c25 == 3)] = 2\n",
    "df.c25[(df.c25 ==  4 )| (df.c25 == 5 )] = 3\n",
    "df.c25[(df.c25 == 6) | (df.c25 == 7)] = 4\n",
    "df.c25[df.c25 == 8] = 5"
   ]
  },
  {
   "cell_type": "code",
   "execution_count": 69,
   "id": "d4c87742",
   "metadata": {
    "id": "d4c87742"
   },
   "outputs": [],
   "source": [
    "df['etude'] = 0\n",
    "df.loc[(df['niveak'] == 2) | (df['niveak'] == 3) ,'etude']  = 1\n",
    "df.loc[(df['niveak'] == 4)| (df['niveak'] == 5),'etude']  = 2\n",
    "df.loc[(df['niveak'] == 6)| (df['niveak'] == 7),'etude'] = 3\n",
    "df.loc[(df['niveak'] == 8)| (df['niveak'] == 9),'etude'] = 4"
   ]
  },
  {
   "cell_type": "code",
   "execution_count": 70,
   "id": "1f38ff9c",
   "metadata": {
    "id": "1f38ff9c"
   },
   "outputs": [],
   "source": [
    "df['prise_risque']=df['c23'] + df['c25']\n",
    "def cla(x):\n",
    "    if x == 2:\n",
    "        return 0\n",
    "    elif x in (3,4):\n",
    "        return 1\n",
    "    elif x in (5,6,7):\n",
    "        return 2\n",
    "    elif x in (8,9):\n",
    "        return 3\n",
    "df.prise_risque = df.prise_risque.apply(lambda x : cla(x))\n",
    "\n",
    "df['couvre_risque'] = round(0.40*(df['c28']+1)+(df['c29_1'])*0.30 + (df['c29_1'])*0.30)"
   ]
  },
  {
   "cell_type": "code",
   "execution_count": 9,
   "id": "qfsF0FuqptRm",
   "metadata": {
    "colab": {
     "base_uri": "https://localhost:8080/"
    },
    "id": "qfsF0FuqptRm",
    "outputId": "0c3aa731-6d72-4dcb-fbc4-97135b5edbe1"
   },
   "outputs": [
    {
     "data": {
      "text/plain": [
       "array([1, 0, 2, 3], dtype=int64)"
      ]
     },
     "execution_count": 9,
     "metadata": {},
     "output_type": "execute_result"
    }
   ],
   "source": [
    "a = df.prise_risque.unique()\n",
    "a"
   ]
  },
  {
   "cell_type": "code",
   "execution_count": 10,
   "id": "6a74e2ad",
   "metadata": {
    "id": "6a74e2ad"
   },
   "outputs": [
    {
     "data": {
      "text/html": [
       "<div>\n",
       "<style scoped>\n",
       "    .dataframe tbody tr th:only-of-type {\n",
       "        vertical-align: middle;\n",
       "    }\n",
       "\n",
       "    .dataframe tbody tr th {\n",
       "        vertical-align: top;\n",
       "    }\n",
       "\n",
       "    .dataframe thead th {\n",
       "        text-align: right;\n",
       "    }\n",
       "</style>\n",
       "<table border=\"1\" class=\"dataframe\">\n",
       "  <thead>\n",
       "    <tr style=\"text-align: right;\">\n",
       "      <th></th>\n",
       "      <th>c23</th>\n",
       "      <th>c25</th>\n",
       "      <th>c28</th>\n",
       "      <th>c29_1</th>\n",
       "      <th>c29_2</th>\n",
       "      <th>niveak</th>\n",
       "      <th>region9</th>\n",
       "      <th>revenu_net</th>\n",
       "      <th>pcs</th>\n",
       "      <th>sexe</th>\n",
       "      <th>agglo</th>\n",
       "      <th>internet</th>\n",
       "      <th>age</th>\n",
       "      <th>etude</th>\n",
       "      <th>prise_risque</th>\n",
       "      <th>couvre_risque</th>\n",
       "    </tr>\n",
       "  </thead>\n",
       "  <tbody>\n",
       "    <tr>\n",
       "      <th>count</th>\n",
       "      <td>3616</td>\n",
       "      <td>3616</td>\n",
       "      <td>3616</td>\n",
       "      <td>3616</td>\n",
       "      <td>3616</td>\n",
       "      <td>3616</td>\n",
       "      <td>3616</td>\n",
       "      <td>3616</td>\n",
       "      <td>3616</td>\n",
       "      <td>3616</td>\n",
       "      <td>3616</td>\n",
       "      <td>3616</td>\n",
       "      <td>3616</td>\n",
       "      <td>3616</td>\n",
       "      <td>3616</td>\n",
       "      <td>3616</td>\n",
       "    </tr>\n",
       "    <tr>\n",
       "      <th>unique</th>\n",
       "      <td>1</td>\n",
       "      <td>1</td>\n",
       "      <td>1</td>\n",
       "      <td>1</td>\n",
       "      <td>1</td>\n",
       "      <td>1</td>\n",
       "      <td>1</td>\n",
       "      <td>1</td>\n",
       "      <td>1</td>\n",
       "      <td>1</td>\n",
       "      <td>1</td>\n",
       "      <td>1</td>\n",
       "      <td>1</td>\n",
       "      <td>1</td>\n",
       "      <td>1</td>\n",
       "      <td>1</td>\n",
       "    </tr>\n",
       "    <tr>\n",
       "      <th>top</th>\n",
       "      <td>False</td>\n",
       "      <td>False</td>\n",
       "      <td>False</td>\n",
       "      <td>False</td>\n",
       "      <td>False</td>\n",
       "      <td>False</td>\n",
       "      <td>False</td>\n",
       "      <td>False</td>\n",
       "      <td>False</td>\n",
       "      <td>False</td>\n",
       "      <td>False</td>\n",
       "      <td>False</td>\n",
       "      <td>False</td>\n",
       "      <td>False</td>\n",
       "      <td>False</td>\n",
       "      <td>False</td>\n",
       "    </tr>\n",
       "    <tr>\n",
       "      <th>freq</th>\n",
       "      <td>3616</td>\n",
       "      <td>3616</td>\n",
       "      <td>3616</td>\n",
       "      <td>3616</td>\n",
       "      <td>3616</td>\n",
       "      <td>3616</td>\n",
       "      <td>3616</td>\n",
       "      <td>3616</td>\n",
       "      <td>3616</td>\n",
       "      <td>3616</td>\n",
       "      <td>3616</td>\n",
       "      <td>3616</td>\n",
       "      <td>3616</td>\n",
       "      <td>3616</td>\n",
       "      <td>3616</td>\n",
       "      <td>3616</td>\n",
       "    </tr>\n",
       "  </tbody>\n",
       "</table>\n",
       "</div>"
      ],
      "text/plain": [
       "          c23    c25    c28  c29_1  c29_2 niveak region9 revenu_net    pcs  \\\n",
       "count    3616   3616   3616   3616   3616   3616    3616       3616   3616   \n",
       "unique      1      1      1      1      1      1       1          1      1   \n",
       "top     False  False  False  False  False  False   False      False  False   \n",
       "freq     3616   3616   3616   3616   3616   3616    3616       3616   3616   \n",
       "\n",
       "         sexe  agglo internet    age  etude prise_risque couvre_risque  \n",
       "count    3616   3616     3616   3616   3616         3616          3616  \n",
       "unique      1      1        1      1      1            1             1  \n",
       "top     False  False    False  False  False        False         False  \n",
       "freq     3616   3616     3616   3616   3616         3616          3616  "
      ]
     },
     "execution_count": 10,
     "metadata": {},
     "output_type": "execute_result"
    }
   ],
   "source": [
    "df.isna().describe()"
   ]
  },
  {
   "cell_type": "code",
   "execution_count": 11,
   "id": "REb8_zQ5Yuh2",
   "metadata": {
    "id": "REb8_zQ5Yuh2"
   },
   "outputs": [],
   "source": [
    "for var in ['c23','c25','c28','c29_1','c29_2','niveak','revenu_net', 'etude', 'prise_risque','couvre_risque']:\n",
    "     \n",
    "    cat_dtype = CategoricalDtype(\n",
    "    categories=a, ordered=True)\n",
    "    df[var] = df[var].astype(cat_dtype)\n",
    "\n",
    "    \n"
   ]
  },
  {
   "cell_type": "markdown",
   "id": "efde6e5b",
   "metadata": {
    "id": "efde6e5b"
   },
   "source": [
    "# Visualisation des données"
   ]
  },
  {
   "cell_type": "code",
   "execution_count": 13,
   "id": "5921cfcd",
   "metadata": {
    "colab": {
     "base_uri": "https://localhost:8080/",
     "height": 458
    },
    "id": "5921cfcd",
    "outputId": "4163f486-fc66-44bd-ab3c-675b59b68b43",
    "scrolled": false
   },
   "outputs": [
    {
     "data": {
      "text/html": [
       "<div>\n",
       "<style scoped>\n",
       "    .dataframe tbody tr th:only-of-type {\n",
       "        vertical-align: middle;\n",
       "    }\n",
       "\n",
       "    .dataframe tbody tr th {\n",
       "        vertical-align: top;\n",
       "    }\n",
       "\n",
       "    .dataframe thead th {\n",
       "        text-align: right;\n",
       "    }\n",
       "</style>\n",
       "<table border=\"1\" class=\"dataframe\">\n",
       "  <thead>\n",
       "    <tr style=\"text-align: right;\">\n",
       "      <th></th>\n",
       "      <th>c23</th>\n",
       "      <th>c25</th>\n",
       "      <th>c28</th>\n",
       "      <th>c29_1</th>\n",
       "      <th>c29_2</th>\n",
       "      <th>niveak</th>\n",
       "      <th>revenu_net</th>\n",
       "      <th>etude</th>\n",
       "      <th>prise_risque</th>\n",
       "      <th>couvre_risque</th>\n",
       "      <th>internet</th>\n",
       "      <th>sexe</th>\n",
       "      <th>age</th>\n",
       "    </tr>\n",
       "  </thead>\n",
       "  <tbody>\n",
       "    <tr>\n",
       "      <th>count</th>\n",
       "      <td>3616.0</td>\n",
       "      <td>3616.0</td>\n",
       "      <td>3616.0</td>\n",
       "      <td>3616.0</td>\n",
       "      <td>3616.0</td>\n",
       "      <td>3616.0</td>\n",
       "      <td>3616.0</td>\n",
       "      <td>3616.0</td>\n",
       "      <td>3616.0</td>\n",
       "      <td>3616.0</td>\n",
       "      <td>3616.000000</td>\n",
       "      <td>3616.000000</td>\n",
       "      <td>3616.000000</td>\n",
       "    </tr>\n",
       "    <tr>\n",
       "      <th>unique</th>\n",
       "      <td>4.0</td>\n",
       "      <td>5.0</td>\n",
       "      <td>2.0</td>\n",
       "      <td>3.0</td>\n",
       "      <td>3.0</td>\n",
       "      <td>9.0</td>\n",
       "      <td>13.0</td>\n",
       "      <td>5.0</td>\n",
       "      <td>4.0</td>\n",
       "      <td>3.0</td>\n",
       "      <td>NaN</td>\n",
       "      <td>NaN</td>\n",
       "      <td>NaN</td>\n",
       "    </tr>\n",
       "    <tr>\n",
       "      <th>top</th>\n",
       "      <td>1.0</td>\n",
       "      <td>1.0</td>\n",
       "      <td>0.0</td>\n",
       "      <td>3.0</td>\n",
       "      <td>3.0</td>\n",
       "      <td>4.0</td>\n",
       "      <td>6.0</td>\n",
       "      <td>2.0</td>\n",
       "      <td>0.0</td>\n",
       "      <td>2.0</td>\n",
       "      <td>NaN</td>\n",
       "      <td>NaN</td>\n",
       "      <td>NaN</td>\n",
       "    </tr>\n",
       "    <tr>\n",
       "      <th>freq</th>\n",
       "      <td>2521.0</td>\n",
       "      <td>2388.0</td>\n",
       "      <td>2446.0</td>\n",
       "      <td>1938.0</td>\n",
       "      <td>2071.0</td>\n",
       "      <td>944.0</td>\n",
       "      <td>505.0</td>\n",
       "      <td>1807.0</td>\n",
       "      <td>1880.0</td>\n",
       "      <td>2654.0</td>\n",
       "      <td>NaN</td>\n",
       "      <td>NaN</td>\n",
       "      <td>NaN</td>\n",
       "    </tr>\n",
       "    <tr>\n",
       "      <th>mean</th>\n",
       "      <td>NaN</td>\n",
       "      <td>NaN</td>\n",
       "      <td>NaN</td>\n",
       "      <td>NaN</td>\n",
       "      <td>NaN</td>\n",
       "      <td>NaN</td>\n",
       "      <td>NaN</td>\n",
       "      <td>NaN</td>\n",
       "      <td>NaN</td>\n",
       "      <td>NaN</td>\n",
       "      <td>0.319967</td>\n",
       "      <td>1.536228</td>\n",
       "      <td>4.209071</td>\n",
       "    </tr>\n",
       "    <tr>\n",
       "      <th>std</th>\n",
       "      <td>NaN</td>\n",
       "      <td>NaN</td>\n",
       "      <td>NaN</td>\n",
       "      <td>NaN</td>\n",
       "      <td>NaN</td>\n",
       "      <td>NaN</td>\n",
       "      <td>NaN</td>\n",
       "      <td>NaN</td>\n",
       "      <td>NaN</td>\n",
       "      <td>NaN</td>\n",
       "      <td>0.466528</td>\n",
       "      <td>0.498755</td>\n",
       "      <td>1.784050</td>\n",
       "    </tr>\n",
       "    <tr>\n",
       "      <th>min</th>\n",
       "      <td>NaN</td>\n",
       "      <td>NaN</td>\n",
       "      <td>NaN</td>\n",
       "      <td>NaN</td>\n",
       "      <td>NaN</td>\n",
       "      <td>NaN</td>\n",
       "      <td>NaN</td>\n",
       "      <td>NaN</td>\n",
       "      <td>NaN</td>\n",
       "      <td>NaN</td>\n",
       "      <td>0.000000</td>\n",
       "      <td>1.000000</td>\n",
       "      <td>1.000000</td>\n",
       "    </tr>\n",
       "    <tr>\n",
       "      <th>25%</th>\n",
       "      <td>NaN</td>\n",
       "      <td>NaN</td>\n",
       "      <td>NaN</td>\n",
       "      <td>NaN</td>\n",
       "      <td>NaN</td>\n",
       "      <td>NaN</td>\n",
       "      <td>NaN</td>\n",
       "      <td>NaN</td>\n",
       "      <td>NaN</td>\n",
       "      <td>NaN</td>\n",
       "      <td>0.000000</td>\n",
       "      <td>1.000000</td>\n",
       "      <td>3.000000</td>\n",
       "    </tr>\n",
       "    <tr>\n",
       "      <th>50%</th>\n",
       "      <td>NaN</td>\n",
       "      <td>NaN</td>\n",
       "      <td>NaN</td>\n",
       "      <td>NaN</td>\n",
       "      <td>NaN</td>\n",
       "      <td>NaN</td>\n",
       "      <td>NaN</td>\n",
       "      <td>NaN</td>\n",
       "      <td>NaN</td>\n",
       "      <td>NaN</td>\n",
       "      <td>0.000000</td>\n",
       "      <td>2.000000</td>\n",
       "      <td>4.000000</td>\n",
       "    </tr>\n",
       "    <tr>\n",
       "      <th>75%</th>\n",
       "      <td>NaN</td>\n",
       "      <td>NaN</td>\n",
       "      <td>NaN</td>\n",
       "      <td>NaN</td>\n",
       "      <td>NaN</td>\n",
       "      <td>NaN</td>\n",
       "      <td>NaN</td>\n",
       "      <td>NaN</td>\n",
       "      <td>NaN</td>\n",
       "      <td>NaN</td>\n",
       "      <td>1.000000</td>\n",
       "      <td>2.000000</td>\n",
       "      <td>6.000000</td>\n",
       "    </tr>\n",
       "    <tr>\n",
       "      <th>max</th>\n",
       "      <td>NaN</td>\n",
       "      <td>NaN</td>\n",
       "      <td>NaN</td>\n",
       "      <td>NaN</td>\n",
       "      <td>NaN</td>\n",
       "      <td>NaN</td>\n",
       "      <td>NaN</td>\n",
       "      <td>NaN</td>\n",
       "      <td>NaN</td>\n",
       "      <td>NaN</td>\n",
       "      <td>1.000000</td>\n",
       "      <td>2.000000</td>\n",
       "      <td>7.000000</td>\n",
       "    </tr>\n",
       "  </tbody>\n",
       "</table>\n",
       "</div>"
      ],
      "text/plain": [
       "           c23     c25     c28   c29_1   c29_2  niveak  revenu_net   etude  \\\n",
       "count   3616.0  3616.0  3616.0  3616.0  3616.0  3616.0      3616.0  3616.0   \n",
       "unique     4.0     5.0     2.0     3.0     3.0     9.0        13.0     5.0   \n",
       "top        1.0     1.0     0.0     3.0     3.0     4.0         6.0     2.0   \n",
       "freq    2521.0  2388.0  2446.0  1938.0  2071.0   944.0       505.0  1807.0   \n",
       "mean       NaN     NaN     NaN     NaN     NaN     NaN         NaN     NaN   \n",
       "std        NaN     NaN     NaN     NaN     NaN     NaN         NaN     NaN   \n",
       "min        NaN     NaN     NaN     NaN     NaN     NaN         NaN     NaN   \n",
       "25%        NaN     NaN     NaN     NaN     NaN     NaN         NaN     NaN   \n",
       "50%        NaN     NaN     NaN     NaN     NaN     NaN         NaN     NaN   \n",
       "75%        NaN     NaN     NaN     NaN     NaN     NaN         NaN     NaN   \n",
       "max        NaN     NaN     NaN     NaN     NaN     NaN         NaN     NaN   \n",
       "\n",
       "        prise_risque  couvre_risque     internet         sexe          age  \n",
       "count         3616.0         3616.0  3616.000000  3616.000000  3616.000000  \n",
       "unique           4.0            3.0          NaN          NaN          NaN  \n",
       "top              0.0            2.0          NaN          NaN          NaN  \n",
       "freq          1880.0         2654.0          NaN          NaN          NaN  \n",
       "mean             NaN            NaN     0.319967     1.536228     4.209071  \n",
       "std              NaN            NaN     0.466528     0.498755     1.784050  \n",
       "min              NaN            NaN     0.000000     1.000000     1.000000  \n",
       "25%              NaN            NaN     0.000000     1.000000     3.000000  \n",
       "50%              NaN            NaN     0.000000     2.000000     4.000000  \n",
       "75%              NaN            NaN     1.000000     2.000000     6.000000  \n",
       "max              NaN            NaN     1.000000     2.000000     7.000000  "
      ]
     },
     "execution_count": 13,
     "metadata": {},
     "output_type": "execute_result"
    }
   ],
   "source": [
    "df.describe(include='all')"
   ]
  },
  {
   "cell_type": "code",
   "execution_count": 14,
   "id": "72166245",
   "metadata": {
    "colab": {
     "base_uri": "https://localhost:8080/",
     "height": 1000
    },
    "id": "72166245",
    "outputId": "ef0f61cb-8d2f-4f1e-f992-929fe5ca005a",
    "scrolled": false
   },
   "outputs": [
    {
     "data": {
      "image/png": "[encoded data removed]",
      "text/plain": [
       "<Figure size 432x288 with 1 Axes>"
      ]
     },
     "metadata": {
      "needs_background": "light"
     },
     "output_type": "display_data"
    },
    {
     "data": {
      "image/png": "[encoded data removed]",
      "text/plain": [
       "<Figure size 432x288 with 1 Axes>"
      ]
     },
     "metadata": {
      "needs_background": "light"
     },
     "output_type": "display_data"
    },
    {
     "data": {
      "image/png": "[encoded data removed]",
      "text/plain": [
       "<Figure size 432x288 with 1 Axes>"
      ]
     },
     "metadata": {
      "needs_background": "light"
     },
     "output_type": "display_data"
    },
    {
     "data": {
      "image/png": "[encoded data removed]",
      "text/plain": [
       "<Figure size 432x288 with 1 Axes>"
      ]
     },
     "metadata": {
      "needs_background": "light"
     },
     "output_type": "display_data"
    },
    {
     "data": {
      "image/png": "[encoded data removed]",
      "text/plain": [
       "<Figure size 432x288 with 1 Axes>"
      ]
     },
     "metadata": {
      "needs_background": "light"
     },
     "output_type": "display_data"
    },
    {
     "data": {
      "image/png": "[encoded data removed]",
      "text/plain": [
       "<Figure size 432x288 with 1 Axes>"
      ]
     },
     "metadata": {
      "needs_background": "light"
     },
     "output_type": "display_data"
    },
    {
     "data": {
      "image/png": "[encoded data removed]",
      "text/plain": [
       "<Figure size 432x288 with 1 Axes>"
      ]
     },
     "metadata": {
      "needs_background": "light"
     },
     "output_type": "display_data"
    },
    {
     "data": {
      "image/png": "[encoded data removed]",
      "text/plain": [
       "<Figure size 432x288 with 1 Axes>"
      ]
     },
     "metadata": {
      "needs_background": "light"
     },
     "output_type": "display_data"
    },
    {
     "data": {
      "image/png": "[encoded data removed]",
      "text/plain": [
       "<Figure size 432x288 with 1 Axes>"
      ]
     },
     "metadata": {
      "needs_background": "light"
     },
     "output_type": "display_data"
    },
    {
     "data": {
      "image/png": "[encoded data removed]",
      "text/plain": [
       "<Figure size 432x288 with 1 Axes>"
      ]
     },
     "metadata": {
      "needs_background": "light"
     },
     "output_type": "display_data"
    },
    {
     "data": {
      "image/png": "[encoded data removed]",
      "text/plain": [
       "<Figure size 432x288 with 1 Axes>"
      ]
     },
     "metadata": {
      "needs_background": "light"
     },
     "output_type": "display_data"
    },
    {
     "data": {
      "image/png": "[encoded data removed]",
      "text/plain": [
       "<Figure size 432x288 with 1 Axes>"
      ]
     },
     "metadata": {
      "needs_background": "light"
     },
     "output_type": "display_data"
    },
    {
     "data": {
      "image/png": "[encoded data removed]",
      "text/plain": [
       "<Figure size 432x288 with 1 Axes>"
      ]
     },
     "metadata": {
      "needs_background": "light"
     },
     "output_type": "display_data"
    },
    {
     "data": {
      "text/plain": [
       "<Figure size 432x288 with 0 Axes>"
      ]
     },
     "metadata": {},
     "output_type": "display_data"
    }
   ],
   "source": [
    "for var in ['c23','c25','c28','c29_1','c29_2','niveak','revenu_net', 'etude', 'prise_risque','couvre_risque','internet','sexe','age'] : \n",
    "    #cat = list(df[var].unique())\n",
    "    #plt.hist(df[var],range=(min(cat)-1, max(cat)),bins=len(cat),color='white',edgecolor = 'black')\n",
    "    #plt.title(var)\n",
    "    df[var].value_counts().sort_index().plot.bar(rot=0)\n",
    "    plt.title(var)\n",
    "    plt.show()\n",
    "    plt.savefig(f\"histo_{var}.jpg\")"
   ]
  },
  {
   "cell_type": "code",
   "execution_count": 15,
   "id": "5344eb90",
   "metadata": {
    "colab": {
     "base_uri": "https://localhost:8080/"
    },
    "id": "5344eb90",
    "outputId": "312e5859-3701-476f-cfd6-1ff7ac038df9"
   },
   "outputs": [
    {
     "name": "stdout",
     "output_type": "stream",
     "text": [
      "col_0   Nombre\n",
      "niveak        \n",
      "1            1\n",
      "2          327\n",
      "3          275\n",
      "4          944\n",
      "5          863\n",
      "6          460\n",
      "7          144\n",
      "8          411\n",
      "9          191\n",
      "c23       1    2   3  4\n",
      "niveak                 \n",
      "1         1    0   0  0\n",
      "2       248   72   5  2\n",
      "3       217   53   3  2\n",
      "4       701  221  13  9\n",
      "5       614  240   7  2\n",
      "6       304  150   6  0\n",
      "7        96   45   3  0\n",
      "8       250  154   6  1\n",
      "9        90   95   6  0\n",
      "c25       1    2   3  4  5\n",
      "niveak                    \n",
      "1         1    0   0  0  0\n",
      "2       263   50  12  1  1\n",
      "3       206   53  13  1  2\n",
      "4       682  212  47  2  1\n",
      "5       594  232  37  0  0\n",
      "6       241  173  45  1  0\n",
      "7        90   45   9  0  0\n",
      "8       212  157  42  0  0\n",
      "9        99   74  18  0  0\n",
      "c28       0    1\n",
      "niveak          \n",
      "1         0    1\n",
      "2       244   83\n",
      "3       180   95\n",
      "4       647  297\n",
      "5       567  296\n",
      "6       305  155\n",
      "7        91   53\n",
      "8       283  128\n",
      "9       129   62\n",
      "c29_1    1    2    3\n",
      "niveak              \n",
      "1        0    0    1\n",
      "2       22  121  184\n",
      "3       21  101  153\n",
      "4       59  369  516\n",
      "5       50  374  439\n",
      "6       22  185  253\n",
      "7        8   55   81\n",
      "8       25  177  209\n",
      "9       14   75  102\n",
      "c29_2    1    2    3\n",
      "niveak              \n",
      "1        0    0    1\n",
      "2       20  109  198\n",
      "3       22   86  167\n",
      "4       67  350  527\n",
      "5       64  317  482\n",
      "6       27  178  255\n",
      "7        8   48   88\n",
      "8       31  145  235\n",
      "9       12   61  118\n",
      "niveak  1    2    3    4    5    6    7    8    9\n",
      "niveak                                           \n",
      "1       1    0    0    0    0    0    0    0    0\n",
      "2       0  327    0    0    0    0    0    0    0\n",
      "3       0    0  275    0    0    0    0    0    0\n",
      "4       0    0    0  944    0    0    0    0    0\n",
      "5       0    0    0    0  863    0    0    0    0\n",
      "6       0    0    0    0    0  460    0    0    0\n",
      "7       0    0    0    0    0    0  144    0    0\n",
      "8       0    0    0    0    0    0    0  411    0\n",
      "9       0    0    0    0    0    0    0    0  191\n",
      "revenu_net  1   2   3   4    5    6    7    8   9   10  11  12  13\n",
      "niveak                                                            \n",
      "1           0   0   0   0    0    0    0    0   1    0   0   0   0\n",
      "2           1   8  43  52   64   55   42   25  14   17   4   2   0\n",
      "3           0   7  14  30   53   47   46   25  16   21  12   2   2\n",
      "4           1  24  48  81  131  149  126  121  94  110  46  10   3\n",
      "5           0  13  29  60   66  133  121  119  80  122  93  25   2\n",
      "6           3   5   2  15   30   48   69   56  54   80  78  19   1\n",
      "7           0   3   1   5   10   19   22   10  11   25  32   6   0\n",
      "8           0   4   8   8   17   41   43   39  39   82  90  37   3\n",
      "9           0   2   1   2    3   13   10   19  19   31  52  37   2\n",
      "etude   0    1    2    3    4\n",
      "niveak                       \n",
      "1       1    0    0    0    0\n",
      "2       0  327    0    0    0\n",
      "3       0  275    0    0    0\n",
      "4       0    0  944    0    0\n",
      "5       0    0  863    0    0\n",
      "6       0    0    0  460    0\n",
      "7       0    0    0  144    0\n",
      "8       0    0    0    0  411\n",
      "9       0    0    0    0  191\n",
      "prise_risque    0    1   2  3\n",
      "niveak                       \n",
      "1               1    0   0  0\n",
      "2             207  114   6  0\n",
      "3             169   94  11  1\n",
      "4             552  356  34  2\n",
      "5             468  372  23  0\n",
      "6             187  242  31  0\n",
      "7              70   70   4  0\n",
      "8             162  220  29  0\n",
      "9              64  112  15  0\n",
      "couvre_risque   1    2    3\n",
      "niveak                     \n",
      "1               0    0    1\n",
      "2              22  244   61\n",
      "3              21  192   62\n",
      "4              59  702  183\n",
      "5              50  634  179\n",
      "6              22  336  102\n",
      "7               8   98   38\n",
      "8              25  311   75\n",
      "9              14  137   40\n",
      "internet    0    1\n",
      "niveak            \n",
      "1           1    0\n",
      "2          80  247\n",
      "3         131  144\n",
      "4         579  365\n",
      "5         638  225\n",
      "6         385   75\n",
      "7         121   23\n",
      "8         352   59\n",
      "9         172   19\n",
      "sexe      1    2\n",
      "niveak          \n",
      "1         0    1\n",
      "2       129  198\n",
      "3       106  169\n",
      "4       493  451\n",
      "5       391  472\n",
      "6       229  231\n",
      "7        47   97\n",
      "8       187  224\n",
      "9        95   96\n",
      "age      1    2    3    4    5    6    7\n",
      "niveak                                  \n",
      "1        1    0    0    0    0    0    0\n",
      "2        0    1    0   10   79  107  130\n",
      "3        9   11   22   47   63   58   65\n",
      "4       38   59  128  245  218  149  107\n",
      "5       93  124  138  134  173  103   98\n",
      "6       46  105  113   88   61   28   19\n",
      "7       18   27   26   26   20   19    8\n",
      "8       49  107   92   60   57   23   23\n",
      "9        5   51   54   28   32   14    7\n"
     ]
    }
   ],
   "source": [
    "print(pd.crosstab(df['niveak'],'Nombre'))\n",
    "for i in df.columns:\n",
    "    print(pd.crosstab(df['niveak'],df[i]))"
   ]
  },
  {
   "cell_type": "code",
   "execution_count": 71,
   "id": "1a340ba3",
   "metadata": {
    "colab": {
     "base_uri": "https://localhost:8080/",
     "height": 112
    },
    "id": "1a340ba3",
    "outputId": "f8f46386-f489-4f60-879a-ca413a56e6fb"
   },
   "outputs": [
    {
     "data": {
      "text/html": [
       "<div>\n",
       "<style scoped>\n",
       "    .dataframe tbody tr th:only-of-type {\n",
       "        vertical-align: middle;\n",
       "    }\n",
       "\n",
       "    .dataframe tbody tr th {\n",
       "        vertical-align: top;\n",
       "    }\n",
       "\n",
       "    .dataframe thead th {\n",
       "        text-align: right;\n",
       "    }\n",
       "</style>\n",
       "<table border=\"1\" class=\"dataframe\">\n",
       "  <thead>\n",
       "    <tr style=\"text-align: right;\">\n",
       "      <th></th>\n",
       "      <th>c23</th>\n",
       "      <th>c25</th>\n",
       "      <th>c28</th>\n",
       "      <th>c29_1</th>\n",
       "      <th>c29_2</th>\n",
       "      <th>niveak</th>\n",
       "      <th>region9</th>\n",
       "      <th>revenu_net</th>\n",
       "      <th>pcs</th>\n",
       "      <th>sexe</th>\n",
       "      <th>agglo</th>\n",
       "      <th>internet</th>\n",
       "      <th>age</th>\n",
       "      <th>etude</th>\n",
       "      <th>prise_risque</th>\n",
       "      <th>couvre_risque</th>\n",
       "    </tr>\n",
       "  </thead>\n",
       "  <tbody>\n",
       "    <tr>\n",
       "      <th>c23</th>\n",
       "      <td>1.000000</td>\n",
       "      <td>0.258780</td>\n",
       "      <td>-0.022067</td>\n",
       "      <td>-0.072404</td>\n",
       "      <td>-0.042351</td>\n",
       "      <td>0.125145</td>\n",
       "      <td>-0.029375</td>\n",
       "      <td>0.094042</td>\n",
       "      <td>-0.086773</td>\n",
       "      <td>-0.113124</td>\n",
       "      <td>0.042646</td>\n",
       "      <td>-0.055908</td>\n",
       "      <td>-0.040010</td>\n",
       "      <td>0.123671</td>\n",
       "      <td>0.705912</td>\n",
       "      <td>-0.062086</td>\n",
       "    </tr>\n",
       "    <tr>\n",
       "      <th>c25</th>\n",
       "      <td>0.258780</td>\n",
       "      <td>1.000000</td>\n",
       "      <td>0.020346</td>\n",
       "      <td>-0.024400</td>\n",
       "      <td>-0.002418</td>\n",
       "      <td>0.167514</td>\n",
       "      <td>-0.016736</td>\n",
       "      <td>0.132334</td>\n",
       "      <td>-0.116840</td>\n",
       "      <td>-0.081961</td>\n",
       "      <td>0.003166</td>\n",
       "      <td>-0.091865</td>\n",
       "      <td>-0.120714</td>\n",
       "      <td>0.174317</td>\n",
       "      <td>0.764960</td>\n",
       "      <td>0.004648</td>\n",
       "    </tr>\n",
       "    <tr>\n",
       "      <th>c28</th>\n",
       "      <td>-0.022067</td>\n",
       "      <td>0.020346</td>\n",
       "      <td>1.000000</td>\n",
       "      <td>0.143947</td>\n",
       "      <td>0.147051</td>\n",
       "      <td>0.021050</td>\n",
       "      <td>-0.000536</td>\n",
       "      <td>-0.000163</td>\n",
       "      <td>-0.000481</td>\n",
       "      <td>0.001912</td>\n",
       "      <td>0.008769</td>\n",
       "      <td>-0.030872</td>\n",
       "      <td>-0.015447</td>\n",
       "      <td>0.011551</td>\n",
       "      <td>0.002894</td>\n",
       "      <td>0.639348</td>\n",
       "    </tr>\n",
       "    <tr>\n",
       "      <th>c29_1</th>\n",
       "      <td>-0.072404</td>\n",
       "      <td>-0.024400</td>\n",
       "      <td>0.143947</td>\n",
       "      <td>1.000000</td>\n",
       "      <td>0.553519</td>\n",
       "      <td>-0.013590</td>\n",
       "      <td>-0.027430</td>\n",
       "      <td>0.137188</td>\n",
       "      <td>0.005403</td>\n",
       "      <td>0.008457</td>\n",
       "      <td>-0.030924</td>\n",
       "      <td>-0.005235</td>\n",
       "      <td>0.081899</td>\n",
       "      <td>-0.009475</td>\n",
       "      <td>-0.062184</td>\n",
       "      <td>0.654922</td>\n",
       "    </tr>\n",
       "    <tr>\n",
       "      <th>c29_2</th>\n",
       "      <td>-0.042351</td>\n",
       "      <td>-0.002418</td>\n",
       "      <td>0.147051</td>\n",
       "      <td>0.553519</td>\n",
       "      <td>1.000000</td>\n",
       "      <td>0.000500</td>\n",
       "      <td>-0.001774</td>\n",
       "      <td>0.114762</td>\n",
       "      <td>0.001861</td>\n",
       "      <td>-0.007057</td>\n",
       "      <td>-0.031083</td>\n",
       "      <td>-0.006028</td>\n",
       "      <td>0.087142</td>\n",
       "      <td>-0.001409</td>\n",
       "      <td>-0.014311</td>\n",
       "      <td>0.413902</td>\n",
       "    </tr>\n",
       "    <tr>\n",
       "      <th>niveak</th>\n",
       "      <td>0.125145</td>\n",
       "      <td>0.167514</td>\n",
       "      <td>0.021050</td>\n",
       "      <td>-0.013590</td>\n",
       "      <td>0.000500</td>\n",
       "      <td>1.000000</td>\n",
       "      <td>-0.053441</td>\n",
       "      <td>0.393789</td>\n",
       "      <td>-0.401381</td>\n",
       "      <td>-0.014350</td>\n",
       "      <td>0.147672</td>\n",
       "      <td>-0.348581</td>\n",
       "      <td>-0.392920</td>\n",
       "      <td>0.965956</td>\n",
       "      <td>0.170975</td>\n",
       "      <td>0.008539</td>\n",
       "    </tr>\n",
       "    <tr>\n",
       "      <th>region9</th>\n",
       "      <td>-0.029375</td>\n",
       "      <td>-0.016736</td>\n",
       "      <td>-0.000536</td>\n",
       "      <td>-0.027430</td>\n",
       "      <td>-0.001774</td>\n",
       "      <td>-0.053441</td>\n",
       "      <td>1.000000</td>\n",
       "      <td>-0.084770</td>\n",
       "      <td>0.044776</td>\n",
       "      <td>0.016430</td>\n",
       "      <td>-0.232178</td>\n",
       "      <td>0.000433</td>\n",
       "      <td>-0.004701</td>\n",
       "      <td>-0.051628</td>\n",
       "      <td>-0.026003</td>\n",
       "      <td>-0.016742</td>\n",
       "    </tr>\n",
       "    <tr>\n",
       "      <th>revenu_net</th>\n",
       "      <td>0.094042</td>\n",
       "      <td>0.132334</td>\n",
       "      <td>-0.000163</td>\n",
       "      <td>0.137188</td>\n",
       "      <td>0.114762</td>\n",
       "      <td>0.393789</td>\n",
       "      <td>-0.084770</td>\n",
       "      <td>1.000000</td>\n",
       "      <td>-0.265759</td>\n",
       "      <td>-0.120869</td>\n",
       "      <td>0.054829</td>\n",
       "      <td>-0.371766</td>\n",
       "      <td>-0.204891</td>\n",
       "      <td>0.375855</td>\n",
       "      <td>0.135101</td>\n",
       "      <td>0.084913</td>\n",
       "    </tr>\n",
       "    <tr>\n",
       "      <th>pcs</th>\n",
       "      <td>-0.086773</td>\n",
       "      <td>-0.116840</td>\n",
       "      <td>-0.000481</td>\n",
       "      <td>0.005403</td>\n",
       "      <td>0.001861</td>\n",
       "      <td>-0.401381</td>\n",
       "      <td>0.044776</td>\n",
       "      <td>-0.265759</td>\n",
       "      <td>1.000000</td>\n",
       "      <td>0.117836</td>\n",
       "      <td>-0.022158</td>\n",
       "      <td>0.261444</td>\n",
       "      <td>0.344188</td>\n",
       "      <td>-0.390652</td>\n",
       "      <td>-0.122993</td>\n",
       "      <td>-0.003659</td>\n",
       "    </tr>\n",
       "    <tr>\n",
       "      <th>sexe</th>\n",
       "      <td>-0.113124</td>\n",
       "      <td>-0.081961</td>\n",
       "      <td>0.001912</td>\n",
       "      <td>0.008457</td>\n",
       "      <td>-0.007057</td>\n",
       "      <td>-0.014350</td>\n",
       "      <td>0.016430</td>\n",
       "      <td>-0.120869</td>\n",
       "      <td>0.117836</td>\n",
       "      <td>1.000000</td>\n",
       "      <td>0.056767</td>\n",
       "      <td>0.064893</td>\n",
       "      <td>0.025994</td>\n",
       "      <td>-0.027408</td>\n",
       "      <td>-0.115388</td>\n",
       "      <td>0.005779</td>\n",
       "    </tr>\n",
       "    <tr>\n",
       "      <th>agglo</th>\n",
       "      <td>0.042646</td>\n",
       "      <td>0.003166</td>\n",
       "      <td>0.008769</td>\n",
       "      <td>-0.030924</td>\n",
       "      <td>-0.031083</td>\n",
       "      <td>0.147672</td>\n",
       "      <td>-0.232178</td>\n",
       "      <td>0.054829</td>\n",
       "      <td>-0.022158</td>\n",
       "      <td>0.056767</td>\n",
       "      <td>1.000000</td>\n",
       "      <td>-0.015874</td>\n",
       "      <td>0.057192</td>\n",
       "      <td>0.128913</td>\n",
       "      <td>0.031236</td>\n",
       "      <td>-0.022054</td>\n",
       "    </tr>\n",
       "    <tr>\n",
       "      <th>internet</th>\n",
       "      <td>-0.055908</td>\n",
       "      <td>-0.091865</td>\n",
       "      <td>-0.030872</td>\n",
       "      <td>-0.005235</td>\n",
       "      <td>-0.006028</td>\n",
       "      <td>-0.348581</td>\n",
       "      <td>0.000433</td>\n",
       "      <td>-0.371766</td>\n",
       "      <td>0.261444</td>\n",
       "      <td>0.064893</td>\n",
       "      <td>-0.015874</td>\n",
       "      <td>1.000000</td>\n",
       "      <td>0.434428</td>\n",
       "      <td>-0.328251</td>\n",
       "      <td>-0.093001</td>\n",
       "      <td>-0.024396</td>\n",
       "    </tr>\n",
       "    <tr>\n",
       "      <th>age</th>\n",
       "      <td>-0.040010</td>\n",
       "      <td>-0.120714</td>\n",
       "      <td>-0.015447</td>\n",
       "      <td>0.081899</td>\n",
       "      <td>0.087142</td>\n",
       "      <td>-0.392920</td>\n",
       "      <td>-0.004701</td>\n",
       "      <td>-0.204891</td>\n",
       "      <td>0.344188</td>\n",
       "      <td>0.025994</td>\n",
       "      <td>0.057192</td>\n",
       "      <td>0.434428</td>\n",
       "      <td>1.000000</td>\n",
       "      <td>-0.379799</td>\n",
       "      <td>-0.098035</td>\n",
       "      <td>0.025127</td>\n",
       "    </tr>\n",
       "    <tr>\n",
       "      <th>etude</th>\n",
       "      <td>0.123671</td>\n",
       "      <td>0.174317</td>\n",
       "      <td>0.011551</td>\n",
       "      <td>-0.009475</td>\n",
       "      <td>-0.001409</td>\n",
       "      <td>0.965956</td>\n",
       "      <td>-0.051628</td>\n",
       "      <td>0.375855</td>\n",
       "      <td>-0.390652</td>\n",
       "      <td>-0.027408</td>\n",
       "      <td>0.128913</td>\n",
       "      <td>-0.328251</td>\n",
       "      <td>-0.379799</td>\n",
       "      <td>1.000000</td>\n",
       "      <td>0.174243</td>\n",
       "      <td>0.004060</td>\n",
       "    </tr>\n",
       "    <tr>\n",
       "      <th>prise_risque</th>\n",
       "      <td>0.705912</td>\n",
       "      <td>0.764960</td>\n",
       "      <td>0.002894</td>\n",
       "      <td>-0.062184</td>\n",
       "      <td>-0.014311</td>\n",
       "      <td>0.170975</td>\n",
       "      <td>-0.026003</td>\n",
       "      <td>0.135101</td>\n",
       "      <td>-0.122993</td>\n",
       "      <td>-0.115388</td>\n",
       "      <td>0.031236</td>\n",
       "      <td>-0.093001</td>\n",
       "      <td>-0.098035</td>\n",
       "      <td>0.174243</td>\n",
       "      <td>1.000000</td>\n",
       "      <td>-0.030215</td>\n",
       "    </tr>\n",
       "    <tr>\n",
       "      <th>couvre_risque</th>\n",
       "      <td>-0.062086</td>\n",
       "      <td>0.004648</td>\n",
       "      <td>0.639348</td>\n",
       "      <td>0.654922</td>\n",
       "      <td>0.413902</td>\n",
       "      <td>0.008539</td>\n",
       "      <td>-0.016742</td>\n",
       "      <td>0.084913</td>\n",
       "      <td>-0.003659</td>\n",
       "      <td>0.005779</td>\n",
       "      <td>-0.022054</td>\n",
       "      <td>-0.024396</td>\n",
       "      <td>0.025127</td>\n",
       "      <td>0.004060</td>\n",
       "      <td>-0.030215</td>\n",
       "      <td>1.000000</td>\n",
       "    </tr>\n",
       "  </tbody>\n",
       "</table>\n",
       "</div>"
      ],
      "text/plain": [
       "                    c23       c25       c28     c29_1     c29_2    niveak  \\\n",
       "c23            1.000000  0.258780 -0.022067 -0.072404 -0.042351  0.125145   \n",
       "c25            0.258780  1.000000  0.020346 -0.024400 -0.002418  0.167514   \n",
       "c28           -0.022067  0.020346  1.000000  0.143947  0.147051  0.021050   \n",
       "c29_1         -0.072404 -0.024400  0.143947  1.000000  0.553519 -0.013590   \n",
       "c29_2         -0.042351 -0.002418  0.147051  0.553519  1.000000  0.000500   \n",
       "niveak         0.125145  0.167514  0.021050 -0.013590  0.000500  1.000000   \n",
       "region9       -0.029375 -0.016736 -0.000536 -0.027430 -0.001774 -0.053441   \n",
       "revenu_net     0.094042  0.132334 -0.000163  0.137188  0.114762  0.393789   \n",
       "pcs           -0.086773 -0.116840 -0.000481  0.005403  0.001861 -0.401381   \n",
       "sexe          -0.113124 -0.081961  0.001912  0.008457 -0.007057 -0.014350   \n",
       "agglo          0.042646  0.003166  0.008769 -0.030924 -0.031083  0.147672   \n",
       "internet      -0.055908 -0.091865 -0.030872 -0.005235 -0.006028 -0.348581   \n",
       "age           -0.040010 -0.120714 -0.015447  0.081899  0.087142 -0.392920   \n",
       "etude          0.123671  0.174317  0.011551 -0.009475 -0.001409  0.965956   \n",
       "prise_risque   0.705912  0.764960  0.002894 -0.062184 -0.014311  0.170975   \n",
       "couvre_risque -0.062086  0.004648  0.639348  0.654922  0.413902  0.008539   \n",
       "\n",
       "                region9  revenu_net       pcs      sexe     agglo  internet  \\\n",
       "c23           -0.029375    0.094042 -0.086773 -0.113124  0.042646 -0.055908   \n",
       "c25           -0.016736    0.132334 -0.116840 -0.081961  0.003166 -0.091865   \n",
       "c28           -0.000536   -0.000163 -0.000481  0.001912  0.008769 -0.030872   \n",
       "c29_1         -0.027430    0.137188  0.005403  0.008457 -0.030924 -0.005235   \n",
       "c29_2         -0.001774    0.114762  0.001861 -0.007057 -0.031083 -0.006028   \n",
       "niveak        -0.053441    0.393789 -0.401381 -0.014350  0.147672 -0.348581   \n",
       "region9        1.000000   -0.084770  0.044776  0.016430 -0.232178  0.000433   \n",
       "revenu_net    -0.084770    1.000000 -0.265759 -0.120869  0.054829 -0.371766   \n",
       "pcs            0.044776   -0.265759  1.000000  0.117836 -0.022158  0.261444   \n",
       "sexe           0.016430   -0.120869  0.117836  1.000000  0.056767  0.064893   \n",
       "agglo         -0.232178    0.054829 -0.022158  0.056767  1.000000 -0.015874   \n",
       "internet       0.000433   -0.371766  0.261444  0.064893 -0.015874  1.000000   \n",
       "age           -0.004701   -0.204891  0.344188  0.025994  0.057192  0.434428   \n",
       "etude         -0.051628    0.375855 -0.390652 -0.027408  0.128913 -0.328251   \n",
       "prise_risque  -0.026003    0.135101 -0.122993 -0.115388  0.031236 -0.093001   \n",
       "couvre_risque -0.016742    0.084913 -0.003659  0.005779 -0.022054 -0.024396   \n",
       "\n",
       "                    age     etude  prise_risque  couvre_risque  \n",
       "c23           -0.040010  0.123671      0.705912      -0.062086  \n",
       "c25           -0.120714  0.174317      0.764960       0.004648  \n",
       "c28           -0.015447  0.011551      0.002894       0.639348  \n",
       "c29_1          0.081899 -0.009475     -0.062184       0.654922  \n",
       "c29_2          0.087142 -0.001409     -0.014311       0.413902  \n",
       "niveak        -0.392920  0.965956      0.170975       0.008539  \n",
       "region9       -0.004701 -0.051628     -0.026003      -0.016742  \n",
       "revenu_net    -0.204891  0.375855      0.135101       0.084913  \n",
       "pcs            0.344188 -0.390652     -0.122993      -0.003659  \n",
       "sexe           0.025994 -0.027408     -0.115388       0.005779  \n",
       "agglo          0.057192  0.128913      0.031236      -0.022054  \n",
       "internet       0.434428 -0.328251     -0.093001      -0.024396  \n",
       "age            1.000000 -0.379799     -0.098035       0.025127  \n",
       "etude         -0.379799  1.000000      0.174243       0.004060  \n",
       "prise_risque  -0.098035  0.174243      1.000000      -0.030215  \n",
       "couvre_risque  0.025127  0.004060     -0.030215       1.000000  "
      ]
     },
     "execution_count": 71,
     "metadata": {},
     "output_type": "execute_result"
    }
   ],
   "source": [
    "df.corr()"
   ]
  },
  {
   "cell_type": "code",
   "execution_count": 17,
   "id": "KueNJ5Prk-2K",
   "metadata": {
    "id": "KueNJ5Prk-2K"
   },
   "outputs": [],
   "source": [
    "def crosstab(x:pd.Series,y:pd.Series,pond : bool ):\n",
    "  if pond == True:\n",
    "    z = pd.crosstab(x,y)\n",
    "    count = x.value_counts()\n",
    "    for i in z.index:\n",
    "      z.iloc[i-1] = z.iloc[i-1]/count.iloc[i-1]\n",
    "    return z\n",
    "  else :\n",
    "    return pd.crosstab(x,y)\n",
    "\n"
   ]
  },
  {
   "cell_type": "code",
   "execution_count": 76,
   "id": "189129d2",
   "metadata": {
    "colab": {
     "base_uri": "https://localhost:8080/",
     "height": 300
    },
    "id": "189129d2",
    "outputId": "afcdb7bb-6e53-49f3-90d9-e26bf4e58dcc"
   },
   "outputs": [
    {
     "name": "stdout",
     "output_type": "stream",
     "text": [
      "etude         0    1     2    3    4  Total\n",
      "prise_risque                               \n",
      "0             1  376  1020  257  226   1880\n",
      "1             0  208   728  312  332   1580\n",
      "2             0   17    57   35   44    153\n",
      "3             0    1     2    0    0      3\n",
      "Total         1  602  1807  604  602   3616\n",
      "age           1.0  2.0  3.0  4.0  5.0  6.0  7.0  Total\n",
      "prise_risque                                          \n",
      "0             121  226  263  308  370  308  284   1880\n",
      "1             131  242  282  290  303  174  158   1580\n",
      "2               7   17   28   39   28   19   15    153\n",
      "3               0    0    0    1    2    0    0      3\n",
      "Total         259  485  573  638  703  501  457   3616\n",
      "sexe           1.0   2.0  Total\n",
      "prise_risque                   \n",
      "0              776  1104   1880\n",
      "1              805   775   1580\n",
      "2               93    60    153\n",
      "3                3     0      3\n",
      "Total         1677  1939   3616\n"
     ]
    }
   ],
   "source": [
    "print(pd.crosstab(df['prise_risque'],df['etude'], margins=True, margins_name='Total'))\n",
    "print(pd.crosstab(df['prise_risque'],df['age'], margins=True, margins_name='Total'))\n",
    "print(pd.crosstab(df['prise_risque'],df['sexe'], margins=True, margins_name='Total'))"
   ]
  },
  {
   "cell_type": "code",
   "execution_count": 73,
   "id": "znkRj_dOj3kE",
   "metadata": {
    "colab": {
     "base_uri": "https://localhost:8080/"
    },
    "id": "znkRj_dOj3kE",
    "outputId": "c2271aa8-498f-413b-a90f-d691c808a188",
    "scrolled": true
   },
   "outputs": [
    {
     "data": {
      "text/plain": [
       "<AxesSubplot:>"
      ]
     },
     "execution_count": 73,
     "metadata": {},
     "output_type": "execute_result"
    },
    {
     "data": {
      "image/png": "[encoded data removed]",
      "text/plain": [
       "<Figure size 432x288 with 2 Axes>"
      ]
     },
     "metadata": {
      "needs_background": "light"
     },
     "output_type": "display_data"
    }
   ],
   "source": [
    "sns.heatmap(df[['prise_risque','etude','age','sexe','revenu_net']].corr())"
   ]
  },
  {
   "cell_type": "markdown",
   "id": "cf3d1f7c",
   "metadata": {
    "id": "cf3d1f7c"
   },
   "source": [
    "# Modélisation"
   ]
  },
  {
   "cell_type": "code",
   "execution_count": 77,
   "id": "6afb0282",
   "metadata": {
    "colab": {
     "base_uri": "https://localhost:8080/"
    },
    "id": "6afb0282",
    "outputId": "663d3b96-cd75-4eba-d6cc-df98a90cbc2d"
   },
   "outputs": [],
   "source": [
    "from statsmodels.miscmodels.ordinal_model import OrderedModel"
   ]
  },
  {
   "cell_type": "code",
   "execution_count": 75,
   "id": "e5affdcf",
   "metadata": {
    "colab": {
     "base_uri": "https://localhost:8080/",
     "height": 467
    },
    "id": "e5affdcf",
    "outputId": "30132606-7aea-4691-b4c9-7b8efca863b8"
   },
   "outputs": [
    {
     "name": "stdout",
     "output_type": "stream",
     "text": [
      "Optimization terminated successfully.\n",
      "         Current function value: 0.816993\n",
      "         Iterations: 31\n",
      "         Function evaluations: 33\n",
      "         Gradient evaluations: 33\n"
     ]
    },
    {
     "data": {
      "text/html": [
       "<table class=\"simpletable\">\n",
       "<caption>OrderedModel Results</caption>\n",
       "<tr>\n",
       "  <th>Dep. Variable:</th>       <td>prise_risque</td>    <th>  Log-Likelihood:    </th> <td> -2954.2</td>\n",
       "</tr>\n",
       "<tr>\n",
       "  <th>Model:</th>               <td>OrderedModel</td>    <th>  AIC:               </th> <td>   5922.</td>\n",
       "</tr>\n",
       "<tr>\n",
       "  <th>Method:</th>           <td>Maximum Likelihood</td> <th>  BIC:               </th> <td>   5966.</td>\n",
       "</tr>\n",
       "<tr>\n",
       "  <th>Date:</th>              <td>Sat, 30 Apr 2022</td>  <th>                     </th>     <td> </td>   \n",
       "</tr>\n",
       "<tr>\n",
       "  <th>Time:</th>                  <td>00:15:04</td>      <th>                     </th>     <td> </td>   \n",
       "</tr>\n",
       "<tr>\n",
       "  <th>No. Observations:</th>       <td>  3616</td>       <th>                     </th>     <td> </td>   \n",
       "</tr>\n",
       "<tr>\n",
       "  <th>Df Residuals:</th>           <td>  3609</td>       <th>                     </th>     <td> </td>   \n",
       "</tr>\n",
       "<tr>\n",
       "  <th>Df Model:</th>               <td>     7</td>       <th>                     </th>     <td> </td>   \n",
       "</tr>\n",
       "</table>\n",
       "<table class=\"simpletable\">\n",
       "<tr>\n",
       "       <td></td>         <th>coef</th>     <th>std err</th>      <th>z</th>      <th>P>|z|</th>  <th>[0.025</th>    <th>0.975]</th>  \n",
       "</tr>\n",
       "<tr>\n",
       "  <th>etude</th>      <td>    0.2912</td> <td>    0.041</td> <td>    7.186</td> <td> 0.000</td> <td>    0.212</td> <td>    0.371</td>\n",
       "</tr>\n",
       "<tr>\n",
       "  <th>revenu_net</th> <td>    0.0508</td> <td>    0.014</td> <td>    3.589</td> <td> 0.000</td> <td>    0.023</td> <td>    0.079</td>\n",
       "</tr>\n",
       "<tr>\n",
       "  <th>sexe</th>       <td>   -0.4101</td> <td>    0.067</td> <td>   -6.103</td> <td> 0.000</td> <td>   -0.542</td> <td>   -0.278</td>\n",
       "</tr>\n",
       "<tr>\n",
       "  <th>age</th>        <td>   -0.0454</td> <td>    0.020</td> <td>   -2.251</td> <td> 0.024</td> <td>   -0.085</td> <td>   -0.006</td>\n",
       "</tr>\n",
       "<tr>\n",
       "  <th>0/1</th>        <td>    0.3237</td> <td>    0.202</td> <td>    1.605</td> <td> 0.109</td> <td>   -0.072</td> <td>    0.719</td>\n",
       "</tr>\n",
       "<tr>\n",
       "  <th>1/2</th>        <td>    1.1346</td> <td>    0.027</td> <td>   42.607</td> <td> 0.000</td> <td>    1.082</td> <td>    1.187</td>\n",
       "</tr>\n",
       "<tr>\n",
       "  <th>2/3</th>        <td>    1.3873</td> <td>    0.143</td> <td>    9.706</td> <td> 0.000</td> <td>    1.107</td> <td>    1.667</td>\n",
       "</tr>\n",
       "</table>"
      ],
      "text/plain": [
       "<class 'statsmodels.iolib.summary.Summary'>\n",
       "\"\"\"\n",
       "                             OrderedModel Results                             \n",
       "==============================================================================\n",
       "Dep. Variable:           prise_risque   Log-Likelihood:                -2954.2\n",
       "Model:                   OrderedModel   AIC:                             5922.\n",
       "Method:            Maximum Likelihood   BIC:                             5966.\n",
       "Date:                Sat, 30 Apr 2022                                         \n",
       "Time:                        00:15:04                                         \n",
       "No. Observations:                3616                                         \n",
       "Df Residuals:                    3609                                         \n",
       "Df Model:                           7                                         \n",
       "==============================================================================\n",
       "                 coef    std err          z      P>|z|      [0.025      0.975]\n",
       "------------------------------------------------------------------------------\n",
       "etude          0.2912      0.041      7.186      0.000       0.212       0.371\n",
       "revenu_net     0.0508      0.014      3.589      0.000       0.023       0.079\n",
       "sexe          -0.4101      0.067     -6.103      0.000      -0.542      -0.278\n",
       "age           -0.0454      0.020     -2.251      0.024      -0.085      -0.006\n",
       "0/1            0.3237      0.202      1.605      0.109      -0.072       0.719\n",
       "1/2            1.1346      0.027     42.607      0.000       1.082       1.187\n",
       "2/3            1.3873      0.143      9.706      0.000       1.107       1.667\n",
       "==============================================================================\n",
       "\"\"\""
      ]
     },
     "execution_count": 75,
     "metadata": {},
     "output_type": "execute_result"
    }
   ],
   "source": [
    "y = df[['prise_risque']]\n",
    "X = df[['etude','revenu_net','sexe','age']]\n",
    "\n",
    "mod_prob = OrderedModel(y,\n",
    "                        X,\n",
    "                        distr='logit')\n",
    "\n",
    "res_prob = mod_prob.fit(method='bfgs')\n",
    "res_prob.summary()"
   ]
  },
  {
   "cell_type": "code",
   "execution_count": 78,
   "id": "b9821d7a",
   "metadata": {
    "colab": {
     "base_uri": "https://localhost:8080/"
    },
    "id": "b9821d7a",
    "outputId": "149930e9-6742-4821-b7f7-d56d6aa628f1"
   },
   "outputs": [
    {
     "data": {
      "text/plain": [
       "array([ 0.33965578, -0.44367876, -0.55477179, ..., -0.43410442,\n",
       "        0.39974739, -0.62632996])"
      ]
     },
     "execution_count": 78,
     "metadata": {},
     "output_type": "execute_result"
    }
   ],
   "source": [
    "res_prob.resid_prob"
   ]
  },
  {
   "cell_type": "code",
   "execution_count": 79,
   "id": "ea4c3818",
   "metadata": {
    "colab": {
     "base_uri": "https://localhost:8080/",
     "height": 369
    },
    "id": "ea4c3818",
    "outputId": "3b9fe2e1-0428-4ed4-ed4f-7cff673f5101"
   },
   "outputs": [
    {
     "data": {
      "text/plain": [
       "(array([ 354., 1105.,  421.,    0.,    0.,  239.,  699.,  557.,   85.,\n",
       "         156.]),\n",
       " array([-0.71988674, -0.5479629 , -0.37603907, -0.20411524, -0.03219141,\n",
       "         0.13973242,  0.31165625,  0.48358008,  0.65550392,  0.82742775,\n",
       "         0.99935158]),\n",
       " <BarContainer object of 10 artists>)"
      ]
     },
     "execution_count": 79,
     "metadata": {},
     "output_type": "execute_result"
    },
    {
     "data": {
      "image/png": "[encoded data removed]",
      "text/plain": [
       "<Figure size 432x288 with 1 Axes>"
      ]
     },
     "metadata": {
      "needs_background": "light"
     },
     "output_type": "display_data"
    }
   ],
   "source": [
    "plt.hist(res_prob.resid_prob)"
   ]
  },
  {
   "cell_type": "code",
   "execution_count": 29,
   "id": "c0c638ba",
   "metadata": {
    "colab": {
     "base_uri": "https://localhost:8080/",
     "height": 424
    },
    "id": "c0c638ba",
    "outputId": "4e82b5b1-a2bc-444e-ab2d-6c953cb87d4a"
   },
   "outputs": [
    {
     "name": "stdout",
     "output_type": "stream",
     "text": [
      "Optimization terminated successfully.\n",
      "         Current function value: 0.718183\n",
      "         Iterations: 13\n",
      "         Function evaluations: 16\n",
      "         Gradient evaluations: 16\n"
     ]
    },
    {
     "data": {
      "text/html": [
       "<table class=\"simpletable\">\n",
       "<caption>OrderedModel Results</caption>\n",
       "<tr>\n",
       "  <th>Dep. Variable:</th>       <td>couvre_risque</td>   <th>  Log-Likelihood:    </th> <td> -2596.9</td>\n",
       "</tr>\n",
       "<tr>\n",
       "  <th>Model:</th>               <td>OrderedModel</td>    <th>  AIC:               </th> <td>   5204.</td>\n",
       "</tr>\n",
       "<tr>\n",
       "  <th>Method:</th>           <td>Maximum Likelihood</td> <th>  BIC:               </th> <td>   5235.</td>\n",
       "</tr>\n",
       "<tr>\n",
       "  <th>Date:</th>              <td>Fri, 29 Apr 2022</td>  <th>                     </th>     <td> </td>   \n",
       "</tr>\n",
       "<tr>\n",
       "  <th>Time:</th>                  <td>22:14:08</td>      <th>                     </th>     <td> </td>   \n",
       "</tr>\n",
       "<tr>\n",
       "  <th>No. Observations:</th>       <td>  3616</td>       <th>                     </th>     <td> </td>   \n",
       "</tr>\n",
       "<tr>\n",
       "  <th>Df Residuals:</th>           <td>  3611</td>       <th>                     </th>     <td> </td>   \n",
       "</tr>\n",
       "<tr>\n",
       "  <th>Df Model:</th>               <td>     5</td>       <th>                     </th>     <td> </td>   \n",
       "</tr>\n",
       "</table>\n",
       "<table class=\"simpletable\">\n",
       "<tr>\n",
       "       <td></td>         <th>coef</th>     <th>std err</th>      <th>z</th>      <th>P>|z|</th>  <th>[0.025</th>    <th>0.975]</th>  \n",
       "</tr>\n",
       "<tr>\n",
       "  <th>etude</th>      <td>   -0.0437</td> <td>    0.023</td> <td>   -1.875</td> <td> 0.061</td> <td>   -0.089</td> <td>    0.002</td>\n",
       "</tr>\n",
       "<tr>\n",
       "  <th>revenu_net</th> <td>    0.0488</td> <td>    0.009</td> <td>    5.657</td> <td> 0.000</td> <td>    0.032</td> <td>    0.066</td>\n",
       "</tr>\n",
       "<tr>\n",
       "  <th>sexe</th>       <td>    0.0442</td> <td>    0.041</td> <td>    1.074</td> <td> 0.283</td> <td>   -0.036</td> <td>    0.125</td>\n",
       "</tr>\n",
       "<tr>\n",
       "  <th>1/2</th>        <td>   -1.2243</td> <td>    0.101</td> <td>  -12.161</td> <td> 0.000</td> <td>   -1.422</td> <td>   -1.027</td>\n",
       "</tr>\n",
       "<tr>\n",
       "  <th>2/3</th>        <td>    0.8705</td> <td>    0.016</td> <td>   53.963</td> <td> 0.000</td> <td>    0.839</td> <td>    0.902</td>\n",
       "</tr>\n",
       "</table>"
      ],
      "text/plain": [
       "<class 'statsmodels.iolib.summary.Summary'>\n",
       "\"\"\"\n",
       "                             OrderedModel Results                             \n",
       "==============================================================================\n",
       "Dep. Variable:          couvre_risque   Log-Likelihood:                -2596.9\n",
       "Model:                   OrderedModel   AIC:                             5204.\n",
       "Method:            Maximum Likelihood   BIC:                             5235.\n",
       "Date:                Fri, 29 Apr 2022                                         \n",
       "Time:                        22:14:08                                         \n",
       "No. Observations:                3616                                         \n",
       "Df Residuals:                    3611                                         \n",
       "Df Model:                           5                                         \n",
       "==============================================================================\n",
       "                 coef    std err          z      P>|z|      [0.025      0.975]\n",
       "------------------------------------------------------------------------------\n",
       "etude         -0.0437      0.023     -1.875      0.061      -0.089       0.002\n",
       "revenu_net     0.0488      0.009      5.657      0.000       0.032       0.066\n",
       "sexe           0.0442      0.041      1.074      0.283      -0.036       0.125\n",
       "1/2           -1.2243      0.101    -12.161      0.000      -1.422      -1.027\n",
       "2/3            0.8705      0.016     53.963      0.000       0.839       0.902\n",
       "==============================================================================\n",
       "\"\"\""
      ]
     },
     "execution_count": 29,
     "metadata": {},
     "output_type": "execute_result"
    }
   ],
   "source": [
    "y = df[['couvre_risque']]\n",
    "X = df[['etude','revenu_net','sexe']]\n",
    "\n",
    "mod_prob = OrderedModel(y,\n",
    "                        X,\n",
    "                        distr='probit')\n",
    "\n",
    "res_prob = mod_prob.fit(method='bfgs')\n",
    "res_prob.summary()"
   ]
  },
  {
   "cell_type": "code",
   "execution_count": 30,
   "id": "297258fa",
   "metadata": {
    "colab": {
     "base_uri": "https://localhost:8080/",
     "height": 388
    },
    "id": "297258fa",
    "outputId": "81566c12-9635-49d1-94a8-02b7c4cf9f7c"
   },
   "outputs": [
    {
     "data": {
      "text/plain": [
       "(array([3.31895492e-01, 0.00000000e+00, 0.00000000e+00, 7.65912673e-02,\n",
       "        3.86560632e+00, 4.35518971e-02, 0.00000000e+00, 0.00000000e+00,\n",
       "        1.50178956e-03, 1.11132427e+00]),\n",
       " array([-0.96495517, -0.78080908, -0.59666299, -0.4125169 , -0.22837081,\n",
       "        -0.04422473,  0.13992136,  0.32406745,  0.50821354,  0.69235963,\n",
       "         0.87650572]),\n",
       " <BarContainer object of 10 artists>)"
      ]
     },
     "execution_count": 30,
     "metadata": {},
     "output_type": "execute_result"
    },
    {
     "data": {
      "image/png": "[encoded data removed]",
      "text/plain": [
       "<Figure size 432x288 with 1 Axes>"
      ]
     },
     "metadata": {
      "needs_background": "light"
     },
     "output_type": "display_data"
    }
   ],
   "source": [
    "plt.hist(res_prob.resid_prob, density=True)"
   ]
  }
 ],
 "metadata": {
  "colab": {
   "collapsed_sections": [],
   "name": "advq.ipynb",
   "provenance": []
  },
  "kernelspec": {
   "display_name": "Python 3",
   "language": "python",
   "name": "python3"
  },
  "language_info": {
   "codemirror_mode": {
    "name": "ipython",
    "version": 3
   },
   "file_extension": ".py",
   "mimetype": "text/x-python",
   "name": "python",
   "nbconvert_exporter": "python",
   "pygments_lexer": "ipython3",
   "version": "3.9.4"
  }
 },
 "nbformat": 4,
 "nbformat_minor": 5
}
